{
 "cells": [
  {
   "cell_type": "markdown",
   "metadata": {},
   "source": [
    "Megaline, a mobile phone company, noticed that a lot of their customers are still using old plans. They want to figure out which of their newer plans — Smart or Ultra — would be the best fit for each user based on how they use their phone. In this project, we're building a model that looks at user behavior and predicts whether they should be on the Smart or Ultra plan. It's a binary classification problem, and we’re aiming for at least **75% accuracy** on the test data to make sure the model’s reliable. We’ll be using a Random Forest classifier to get the best possible results and will check performance with accuracy and classification metrics."
   ]
  },
  {
   "cell_type": "code",
   "execution_count": null,
   "metadata": {},
   "outputs": [
    {
     "name": "stdout",
     "output_type": "stream",
     "text": [
      "Validation Accuracy: 0.7947\n",
      "Test Accuracy: 0.8212\n",
      "Classification Report:\n",
      "              precision    recall  f1-score   support\n",
      "\n",
      "           0       0.83      0.94      0.88       455\n",
      "           1       0.78      0.54      0.64       188\n",
      "\n",
      "    accuracy                           0.82       643\n",
      "   macro avg       0.81      0.74      0.76       643\n",
      "weighted avg       0.82      0.82      0.81       643\n",
      "\n",
      "Confusion Matrix:\n",
      "[[427  28]\n",
      " [ 87 101]]\n"
     ]
    }
   ],
   "source": [
    "import pandas as pd\n",
    "from sklearn.model_selection import train_test_split, GridSearchCV\n",
    "from sklearn.ensemble import RandomForestClassifier\n",
    "from sklearn.metrics import accuracy_score, classification_report, confusion_matrix\n",
    "\n",
    "df = pd.read_csv('users_behavior.csv')\n",
    "df.head()\n",
    "\n",
    "features = df.drop(columns='is_ultra')\n",
    "target = df['is_ultra']\n",
    "\n",
    "X_temp, X_test, y_temp, y_test = train_test_split(features, target, test_size=0.2, random_state=42)\n",
    "X_train, X_valid, y_train, y_valid = train_test_split(X_temp, y_temp, test_size=0.25, random_state=42) # 0.25 * 0.8 = 0.2\n",
    "\n",
    "param_grid = {\n",
    "    'n_estimators': [50, 100, 200],\n",
    "    'max_depth': [None, 5, 10],\n",
    "    'min_samples_split': [2, 5]\n",
    "}\n",
    "model = RandomForestClassifier(random_state=42)\n",
    "grid_search = GridSearchCV(model, param_grid, cv=3, scoring='accuracy')\n",
    "grid_search.fit(X_train, y_train)\n",
    "\n",
    "\n",
    "\n",
    "\n",
    "best_model = grid_search.best_estimator_\n",
    "\n",
    "valid_preds = best_model.predict(X_valid)\n",
    "valid_accuracy = accuracy_score(y_valid, valid_preds)\n",
    "print(f\"Validation Accuracy: {valid_accuracy:.4f}\")\n",
    "\n",
    "\n",
    "test_preds = best_model.predict(X_test)\n",
    "test_accuracy = accuracy_score(y_test, test_preds)\n",
    "print(f\"Test Accuracy: {test_accuracy:.4f}\")\n",
    "\n",
    "\n",
    "print(\"Classification Report:\")\n",
    "print(classification_report(y_test, test_preds))\n",
    "\n",
    "print(\"Confusion Matrix:\")\n",
    "print(confusion_matrix(y_test, test_preds))"
   ]
  },
  {
   "cell_type": "code",
   "execution_count": null,
   "metadata": {},
   "outputs": [],
   "source": []
  },
  {
   "cell_type": "markdown",
   "metadata": {},
   "source": [
    "In this project, I built a machine learning model to predict whether a Megaline user would switch to the Ultra or Smart plan, based on their monthly call, message, and internet usage. After performing an initial data exploration, I split the dataset into training (60%), validation (20%), and test (20%) sets. I trained a Random Forest Classifier and used GridSearchCV to tune hyperparameters such as `n_estimators`, `max_depth`, and `min_samples_split`. The final model achieved a test accuracy of **82.1%**, exceeding the required threshold of 75%. The model performed especially well on users who stayed on the Smart plan, while classification of Ultra plan users showed room for improvement."
   ]
  },
  {
   "cell_type": "code",
   "execution_count": null,
   "metadata": {},
   "outputs": [],
   "source": []
  }
 ],
 "metadata": {
  "kernelspec": {
   "display_name": "Python 3 (ipykernel)",
   "language": "python",
   "name": "python3"
  },
  "language_info": {
   "codemirror_mode": {
    "name": "ipython",
    "version": 3
   },
   "file_extension": ".py",
   "mimetype": "text/x-python",
   "name": "python",
   "nbconvert_exporter": "python",
   "pygments_lexer": "ipython3",
   "version": "3.9.23"
  }
 },
 "nbformat": 4,
 "nbformat_minor": 4
}
